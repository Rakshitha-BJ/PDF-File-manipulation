{
 "cells": [
  {
   "cell_type": "code",
   "execution_count": 1,
   "id": "b956ffc4",
   "metadata": {},
   "outputs": [
    {
     "name": "stdout",
     "output_type": "stream",
     "text": [
      "Requirement already satisfied: pypdf in c:\\users\\rakshatha\\downloads\\new folder (2)\\lib\\site-packages (4.0.1)\n"
     ]
    }
   ],
   "source": [
    "!pip install  pypdf"
   ]
  },
  {
   "cell_type": "code",
   "execution_count": 2,
   "id": "f91c7692",
   "metadata": {},
   "outputs": [
    {
     "name": "stdout",
     "output_type": "stream",
     "text": [
      "Requirement already satisfied: pdfplumber in c:\\users\\rakshatha\\downloads\\new folder (2)\\lib\\site-packages (0.10.4)\n",
      "Requirement already satisfied: pdfminer.six==20221105 in c:\\users\\rakshatha\\downloads\\new folder (2)\\lib\\site-packages (from pdfplumber) (20221105)\n",
      "Requirement already satisfied: pypdfium2>=4.18.0 in c:\\users\\rakshatha\\downloads\\new folder (2)\\lib\\site-packages (from pdfplumber) (4.27.0)\n",
      "Requirement already satisfied: Pillow>=9.1 in c:\\users\\rakshatha\\downloads\\new folder (2)\\lib\\site-packages (from pdfplumber) (9.4.0)\n",
      "Requirement already satisfied: cryptography>=36.0.0 in c:\\users\\rakshatha\\downloads\\new folder (2)\\lib\\site-packages (from pdfminer.six==20221105->pdfplumber) (39.0.1)\n",
      "Requirement already satisfied: charset-normalizer>=2.0.0 in c:\\users\\rakshatha\\downloads\\new folder (2)\\lib\\site-packages (from pdfminer.six==20221105->pdfplumber) (2.0.4)\n",
      "Requirement already satisfied: cffi>=1.12 in c:\\users\\rakshatha\\downloads\\new folder (2)\\lib\\site-packages (from cryptography>=36.0.0->pdfminer.six==20221105->pdfplumber) (1.15.1)\n",
      "Requirement already satisfied: pycparser in c:\\users\\rakshatha\\downloads\\new folder (2)\\lib\\site-packages (from cffi>=1.12->cryptography>=36.0.0->pdfminer.six==20221105->pdfplumber) (2.21)\n"
     ]
    }
   ],
   "source": [
    "!pip install pdfplumber"
   ]
  },
  {
   "cell_type": "code",
   "execution_count": 3,
   "id": "47ebff4b",
   "metadata": {},
   "outputs": [
    {
     "name": "stdout",
     "output_type": "stream",
     "text": [
      "Requirement already satisfied: pymupdf in c:\\users\\rakshatha\\downloads\\new folder (2)\\lib\\site-packages (1.23.20)\n",
      "Requirement already satisfied: PyMuPDFb==1.23.9 in c:\\users\\rakshatha\\downloads\\new folder (2)\\lib\\site-packages (from pymupdf) (1.23.9)\n"
     ]
    }
   ],
   "source": [
    "!pip install pymupdf"
   ]
  },
  {
   "cell_type": "code",
   "execution_count": 4,
   "id": "e6f3a426",
   "metadata": {},
   "outputs": [
    {
     "name": "stdout",
     "output_type": "stream",
     "text": [
      "Requirement already satisfied: reportlab in c:\\users\\rakshatha\\downloads\\new folder (2)\\lib\\site-packages (4.0.9)\n",
      "Requirement already satisfied: pillow>=9.0.0 in c:\\users\\rakshatha\\downloads\\new folder (2)\\lib\\site-packages (from reportlab) (9.4.0)\n",
      "Requirement already satisfied: chardet in c:\\users\\rakshatha\\downloads\\new folder (2)\\lib\\site-packages (from reportlab) (4.0.0)\n"
     ]
    }
   ],
   "source": [
    "!pip install reportlab"
   ]
  },
  {
   "cell_type": "code",
   "execution_count": 34,
   "id": "4a4f14c0",
   "metadata": {},
   "outputs": [],
   "source": [
    "from pypdf import PdfReader\n",
    "import pdfplumber\n",
    "import fitz"
   ]
  },
  {
   "cell_type": "code",
   "execution_count": 7,
   "id": "3ca95559",
   "metadata": {},
   "outputs": [
    {
     "name": "stdout",
     "output_type": "stream",
     "text": [
      "10\n",
      " \n",
      "6 \n",
      " \n",
      "CASE STUDIES A ND EXAMPLES  \n",
      " \n",
      "1. It doesn’t get more inspiring than Nick Vujicic. Vujicic was born in 1982 \n",
      "with no limbs. He often recalls that as a child he suffered ridicule and \n",
      "discrimination. He isolated himself from the society. Things got so bad for \n",
      "Nick that at one point he even attempted to commit suicide. With time, \n",
      "however, he learned to see his potential.                 \n",
      "     Nick taught himself to improvise to accomplish \n",
      "several skills, including playing musical instrumen ts \n",
      "and using a computer. In 2005, Nick founded L ife \n",
      "Without Limbs in order to spread hope and \n",
      "inspiration around the world. He currently gives motivational talks around \n",
      "the world, has written several books and is a regular on talk shows and TV \n",
      "programs .  \n",
      "2. Ipsita Ghosh - who was preparing for MBBS en trance exam for around eight \n",
      "months at one of the premiere \n",
      "institutes in the city - wrote a long \n",
      "suicide note, where she blamed \n",
      "loneliness as the primary reason behind \n",
      "taking the \n",
      "extreme step.                                                      \n",
      "     \"Maybe  it was the highly competitive environment \n",
      "that affected her mental health. It seems that she \n",
      "did not find any friend to confide in and might \n",
      "have felt lonely. At the end of her suicide note, she \n",
      "wrote that no one was responsible for her \n",
      "decision,\" said an  officer from Tiljala PS .  \n",
      " \n"
     ]
    }
   ],
   "source": [
    "reader=PdfReader('merger1.pdf')\n",
    "#reading\n",
    "print(len(reader.pages))\n",
    "page=reader.pages[7]\n",
    "print(page.extract_text())\n",
    "#for i in range(len(reader.pages)):\n",
    "    #page=reader.pages[i]\n",
    "    #print(page.extract_text())"
   ]
  },
  {
   "cell_type": "code",
   "execution_count": 8,
   "id": "31424ca2",
   "metadata": {},
   "outputs": [],
   "source": [
    "#images at page 1 front page\n",
    "for img in page.images:\n",
    "    with open(img.name, 'wb') as f:\n",
    "        f.write(img.data)"
   ]
  },
  {
   "cell_type": "code",
   "execution_count": null,
   "id": "b4cd9ffe",
   "metadata": {},
   "outputs": [],
   "source": [
    "#extracting text using pdfplumber\n",
    "#import pdfplumber\n",
    "\n",
    "#with pdfplumber.open('merger1.pdf') as pdf:\n",
    "    # iterate over each page\n",
    "    #for page in pdf.pages:\n",
    "        # extract text\n",
    "        #text = page.extract_text()\n",
    "        #print(text)"
   ]
  },
  {
   "cell_type": "code",
   "execution_count": 9,
   "id": "8b9442fb",
   "metadata": {},
   "outputs": [
    {
     "name": "stdout",
     "output_type": "stream",
     "text": [
      "[]\n",
      "[[['SL.\\nNO.', 'Title', 'Page No.'], ['1', 'Introduction', '1'], ['2', 'Causes', '2'], ['3', 'Impact', '3'], ['4', 'Advantages and Disadvantages', '4'], ['5', 'Preventive Measures', '5'], ['6', 'Case Studies and Examples', '6'], ['7', 'Government and Community\\nInitiatives', '7'], ['8', 'Conclusion', '8']]]\n",
      "[]\n",
      "[]\n",
      "[]\n",
      "[]\n",
      "[]\n",
      "[]\n",
      "[]\n",
      "[]\n"
     ]
    }
   ],
   "source": [
    "#pdfplumber mainly used to extract tables\n",
    "with pdfplumber.open('merger1.pdf') as f:\n",
    "    for i in f.pages:\n",
    "        print(i.extract_tables())"
   ]
  },
  {
   "cell_type": "code",
   "execution_count": 10,
   "id": "54831ced",
   "metadata": {},
   "outputs": [
    {
     "name": "stdout",
     "output_type": "stream",
     "text": [
      "10\n",
      "{'format': 'PDF 1.5', 'title': 'EXPLORATION LAB RPLORT', 'author': 'rakshithabj', 'subject': '', 'keywords': '', 'creator': 'Microsoft® Word 2010', 'producer': 'Microsoft® Word 2010', 'creationDate': \"D:20240210223330+05'30'\", 'modDate': \"D:20240210223330+05'30'\", 'trapped': '', 'encryption': None}\n"
     ]
    }
   ],
   "source": [
    "#fitz\n",
    "doc=fitz.open('merger1.pdf')\n",
    "print(doc.page_count)\n",
    "print(doc.metadata)\n",
    "#getting page as image\n",
    "page=doc.load_page(2)\n",
    "pix=page.get_pixmap()\n",
    "pix.save(f\"page_{page.number}.png\")"
   ]
  },
  {
   "cell_type": "code",
   "execution_count": 38,
   "id": "0ede2bfb",
   "metadata": {},
   "outputs": [],
   "source": [
    "#writing the contents\n"
   ]
  },
  {
   "cell_type": "code",
   "execution_count": 41,
   "id": "ad3db634",
   "metadata": {},
   "outputs": [
    {
     "ename": "TypeError",
     "evalue": "bad type: 'stream'",
     "output_type": "error",
     "traceback": [
      "\u001b[1;31m---------------------------------------------------------------------------\u001b[0m",
      "\u001b[1;31mTypeError\u001b[0m                                 Traceback (most recent call last)",
      "Cell \u001b[1;32mIn[41], line 12\u001b[0m\n\u001b[0;32m     10\u001b[0m writer\u001b[38;5;241m.\u001b[39madd_page(reader\u001b[38;5;241m.\u001b[39mpages[page_to_extract])\n\u001b[0;32m     11\u001b[0m \u001b[38;5;66;03m# Save the extracted page to a new PDF file\u001b[39;00m\n\u001b[1;32m---> 12\u001b[0m \u001b[38;5;28;01mwith\u001b[39;00m \u001b[38;5;28;43mopen\u001b[39;49m\u001b[43m(\u001b[49m\u001b[38;5;124;43m'\u001b[39;49m\u001b[38;5;124;43mextracted_page_single.pdf\u001b[39;49m\u001b[38;5;124;43m'\u001b[39;49m\u001b[43m,\u001b[49m\u001b[43m \u001b[49m\u001b[38;5;124;43m'\u001b[39;49m\u001b[38;5;124;43mwb\u001b[39;49m\u001b[38;5;124;43m'\u001b[39;49m\u001b[43m)\u001b[49m \u001b[38;5;28;01mas\u001b[39;00m f:\n\u001b[0;32m     13\u001b[0m     writer\u001b[38;5;241m.\u001b[39mwrite(f)\n",
      "File \u001b[1;32m~\\Downloads\\New folder (2)\\lib\\site-packages\\fitz\\__init__.py:2646\u001b[0m, in \u001b[0;36mDocument.__init__\u001b[1;34m(self, filename, stream, filetype, rect, width, height, fontsize)\u001b[0m\n\u001b[0;32m   2644\u001b[0m     \u001b[38;5;28mself\u001b[39m\u001b[38;5;241m.\u001b[39mstream \u001b[38;5;241m=\u001b[39m stream\u001b[38;5;241m.\u001b[39mgetvalue()\n\u001b[0;32m   2645\u001b[0m \u001b[38;5;28;01melse\u001b[39;00m:\n\u001b[1;32m-> 2646\u001b[0m     \u001b[38;5;28;01mraise\u001b[39;00m \u001b[38;5;167;01mTypeError\u001b[39;00m(\u001b[38;5;124m\"\u001b[39m\u001b[38;5;124mbad type: \u001b[39m\u001b[38;5;124m'\u001b[39m\u001b[38;5;124mstream\u001b[39m\u001b[38;5;124m'\u001b[39m\u001b[38;5;124m\"\u001b[39m)\n\u001b[0;32m   2647\u001b[0m stream \u001b[38;5;241m=\u001b[39m \u001b[38;5;28mself\u001b[39m\u001b[38;5;241m.\u001b[39mstream\n\u001b[0;32m   2648\u001b[0m \u001b[38;5;28;01mif\u001b[39;00m \u001b[38;5;129;01mnot\u001b[39;00m (filename \u001b[38;5;129;01mor\u001b[39;00m filetype):\n",
      "\u001b[1;31mTypeError\u001b[0m: bad type: 'stream'"
     ]
    }
   ],
   "source": [
    "# Extracting a Single Page From a PDF and saving in another PDF form\n",
    "from PyPDF2 import PdfReader, PdfWriter\n",
    "# Open the PDF file\n",
    "reader = PdfReader('merger1.pdf')\n",
    "# Create a PdfWriter object\n",
    "writer = PdfWriter()\n",
    "# Define the page to extract (e.g., page 0 for the first page)\n",
    "page_to_extract = 0\n",
    "# Add the specific page to the writer object\n",
    "writer.add_page(reader.pages[page_to_extract])\n",
    "# Save the extracted page to a new PDF file\n",
    "with open('extracted_page_single.pdf', 'wb') as f:\n",
    "    writer.write(f)"
   ]
  },
  {
   "cell_type": "code",
   "execution_count": 40,
   "id": "636208c5",
   "metadata": {},
   "outputs": [
    {
     "ename": "TypeError",
     "evalue": "bad type: 'stream'",
     "output_type": "error",
     "traceback": [
      "\u001b[1;31m---------------------------------------------------------------------------\u001b[0m",
      "\u001b[1;31mTypeError\u001b[0m                                 Traceback (most recent call last)",
      "Cell \u001b[1;32mIn[40], line 14\u001b[0m\n\u001b[0;32m     12\u001b[0m     writer\u001b[38;5;241m.\u001b[39madd_page(page)\n\u001b[0;32m     13\u001b[0m \u001b[38;5;66;03m# Save the extracted pages to a new PDF file\u001b[39;00m\n\u001b[1;32m---> 14\u001b[0m \u001b[38;5;28;01mwith\u001b[39;00m \u001b[38;5;28;43mopen\u001b[39;49m\u001b[43m(\u001b[49m\u001b[38;5;124;43m'\u001b[39;49m\u001b[38;5;124;43mextracted_pages_multiple.pdf\u001b[39;49m\u001b[38;5;124;43m'\u001b[39;49m\u001b[43m,\u001b[49m\u001b[43m \u001b[49m\u001b[38;5;124;43m'\u001b[39;49m\u001b[38;5;124;43mwb\u001b[39;49m\u001b[38;5;124;43m'\u001b[39;49m\u001b[43m)\u001b[49m \u001b[38;5;28;01mas\u001b[39;00m f:\n\u001b[0;32m     15\u001b[0m     writer\u001b[38;5;241m.\u001b[39mwrite(f)\n",
      "File \u001b[1;32m~\\Downloads\\New folder (2)\\lib\\site-packages\\fitz\\__init__.py:2646\u001b[0m, in \u001b[0;36mDocument.__init__\u001b[1;34m(self, filename, stream, filetype, rect, width, height, fontsize)\u001b[0m\n\u001b[0;32m   2644\u001b[0m     \u001b[38;5;28mself\u001b[39m\u001b[38;5;241m.\u001b[39mstream \u001b[38;5;241m=\u001b[39m stream\u001b[38;5;241m.\u001b[39mgetvalue()\n\u001b[0;32m   2645\u001b[0m \u001b[38;5;28;01melse\u001b[39;00m:\n\u001b[1;32m-> 2646\u001b[0m     \u001b[38;5;28;01mraise\u001b[39;00m \u001b[38;5;167;01mTypeError\u001b[39;00m(\u001b[38;5;124m\"\u001b[39m\u001b[38;5;124mbad type: \u001b[39m\u001b[38;5;124m'\u001b[39m\u001b[38;5;124mstream\u001b[39m\u001b[38;5;124m'\u001b[39m\u001b[38;5;124m\"\u001b[39m)\n\u001b[0;32m   2647\u001b[0m stream \u001b[38;5;241m=\u001b[39m \u001b[38;5;28mself\u001b[39m\u001b[38;5;241m.\u001b[39mstream\n\u001b[0;32m   2648\u001b[0m \u001b[38;5;28;01mif\u001b[39;00m \u001b[38;5;129;01mnot\u001b[39;00m (filename \u001b[38;5;129;01mor\u001b[39;00m filetype):\n",
      "\u001b[1;31mTypeError\u001b[0m: bad type: 'stream'"
     ]
    }
   ],
   "source": [
    "#extracting multiple pages\n",
    "from PyPDF2 import PdfReader, PdfWriter\n",
    "# Open the PDF file\n",
    "pdf = PdfReader('merger1.pdf')\n",
    "# Define the pages to extract\n",
    "pages_to_extract = [1, 3, 5]\n",
    "# Create a PdfFileWriter object\n",
    "writer = PdfWriter()\n",
    "# Iterate through the pages and add them to the writer object\n",
    "for page_num in pages_to_extract:\n",
    "    page = pdf.pages[page_num]\n",
    "    writer.add_page(page)\n",
    "# Save the extracted pages to a new PDF file\n",
    "with open('extracted_pages_multiple.pdf', 'wb') as f:\n",
    "    writer.write(f)"
   ]
  },
  {
   "cell_type": "code",
   "execution_count": 16,
   "id": "96226242",
   "metadata": {},
   "outputs": [],
   "source": [
    "import PyPDF2\n",
    "\n",
    "# Merge PDFs\n",
    "pdf_merger = PyPDF2.PdfMerger()\n",
    "pdf_merger.append(\"merger1.pdf\")\n",
    "pdf_merger.append(\"merger2.pdf\")\n",
    "pdf_merger.write(\"merged_file(1,2).pdf\")\n",
    "pdf_merger.close()"
   ]
  },
  {
   "cell_type": "code",
   "execution_count": 18,
   "id": "9a5e1682",
   "metadata": {},
   "outputs": [],
   "source": [
    "#rotating pages in pdf file\n",
    "import PyPDF2\n",
    "with open('merger1.pdf', 'rb') as file:\n",
    "    reader = PyPDF2.PdfReader(file)\n",
    "    writer = PyPDF2.PdfWriter()\n",
    "    for page_number in range(len(reader.pages)):\n",
    "        page = reader.pages[page_number]\n",
    "        if page_number in [0, 2]:  # Rotate the first and third pages\n",
    "            page.rotate(90)\n",
    "        writer.add_page(page)\n",
    "    with open('rotating_pages_inpdf.pdf', 'wb') as output_file:\n",
    "        writer.write(output_file)\n",
    "#rotating entire pdf file\n",
    "with open(\"rotater.pdf\", \"rb\") as file:\n",
    "    pdf_reader = PyPDF2.PdfReader(file)\n",
    "    pdf_writer = PyPDF2.PdfWriter()\n",
    "    for page_num in range(len(pdf_reader.pages)):\n",
    "        page = pdf_reader.pages[page_num]\n",
    "        page.rotate(90)\n",
    "        pdf_writer.add_page(page)\n",
    "    with open(\"rotated_output.pdf\", \"wb\") as output_file:\n",
    "        pdf_writer.write(output_file)"
   ]
  },
  {
   "cell_type": "code",
   "execution_count": 24,
   "id": "ea6deffb",
   "metadata": {},
   "outputs": [],
   "source": [
    "#cropped pdf\n",
    "from fitz import open\n",
    "pdf_doc=open(\"merger2.pdf\")\n",
    "for page in pdf_doc:\n",
    "    left,bottom,right,top=50,100,400,600\n",
    "    page.set_cropbox(fitz.Rect(left,bottom,right,top))\n",
    "    page.apply_redactions()\n",
    "pdf_doc.save(\"cropped_pdf.pdf\")\n",
    "#single page cropping\n"
   ]
  },
  {
   "cell_type": "code",
   "execution_count": null,
   "id": "77d40d45",
   "metadata": {},
   "outputs": [],
   "source": []
  },
  {
   "cell_type": "code",
   "execution_count": null,
   "id": "92c397bf",
   "metadata": {},
   "outputs": [],
   "source": []
  },
  {
   "cell_type": "code",
   "execution_count": null,
   "id": "de4cf2d5",
   "metadata": {},
   "outputs": [],
   "source": []
  },
  {
   "cell_type": "code",
   "execution_count": null,
   "id": "bf1a83ce",
   "metadata": {},
   "outputs": [],
   "source": []
  },
  {
   "cell_type": "code",
   "execution_count": null,
   "id": "2a8c50a4",
   "metadata": {},
   "outputs": [],
   "source": []
  }
 ],
 "metadata": {
  "kernelspec": {
   "display_name": "Python 3 (ipykernel)",
   "language": "python",
   "name": "python3"
  },
  "language_info": {
   "codemirror_mode": {
    "name": "ipython",
    "version": 3
   },
   "file_extension": ".py",
   "mimetype": "text/x-python",
   "name": "python",
   "nbconvert_exporter": "python",
   "pygments_lexer": "ipython3",
   "version": "3.10.9"
  }
 },
 "nbformat": 4,
 "nbformat_minor": 5
}
