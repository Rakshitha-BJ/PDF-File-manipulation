{
 "cells": [
  {
   "cell_type": "code",
   "execution_count": null,
   "id": "9ab169d5",
   "metadata": {},
   "outputs": [],
   "source": [
    "!pip install  pypdf"
   ]
  },
  {
   "cell_type": "code",
   "execution_count": null,
   "id": "bf936d1c",
   "metadata": {},
   "outputs": [],
   "source": [
    "!pip install pdfplumber"
   ]
  },
  {
   "cell_type": "code",
   "execution_count": null,
   "id": "bb776233",
   "metadata": {},
   "outputs": [],
   "source": [
    "!pip install pymupdf"
   ]
  },
  {
   "cell_type": "code",
   "execution_count": null,
   "id": "0288e8b0",
   "metadata": {},
   "outputs": [],
   "source": [
    "!pip install reportlab"
   ]
  },
  {
   "cell_type": "code",
   "execution_count": null,
   "id": "c0114745",
   "metadata": {},
   "outputs": [],
   "source": [
    "!pip install fpdf"
   ]
  },
  {
   "cell_type": "code",
   "execution_count": null,
   "id": "a00aaca1",
   "metadata": {},
   "outputs": [],
   "source": [
    "from pypdf import PdfReader\n",
    "import pdfplumber\n",
    "import fitz"
   ]
  },
  {
   "cell_type": "code",
   "execution_count": null,
   "id": "ad4ccfb1",
   "metadata": {},
   "outputs": [],
   "source": [
    "reader=PdfReader('File.pdf')#upload some file \n",
    "#reading\n",
    "print(len(reader.pages))\n",
    "page=reader.pages[0]\n",
    "print(page.extract_text())\n",
    "#for i in range(len(reader.pages)):\n",
    "    #page=reader.pages[i]\n",
    "    #print(page.extract_text())\n",
    "#images at page 1 front page\n",
    "for img in page.images:\n",
    "    with open(img.name, 'wb') as f:\n",
    "        f.write(img.data)    "
   ]
  },
  {
   "cell_type": "code",
   "execution_count": null,
   "id": "034b416d",
   "metadata": {},
   "outputs": [],
   "source": [
    "#extracting text using pdfplumber\n",
    "#import pdfplumber\n",
    "\n",
    "#with pdfplumber.open('File.pdf') as pdf:\n",
    "    # iterate over each page\n",
    "    #for page in pdf.pages:\n",
    "        # extract text\n",
    "        #text = page.extract_text()\n",
    "        #print(text)"
   ]
  },
  {
   "cell_type": "code",
   "execution_count": null,
   "id": "370b8297",
   "metadata": {},
   "outputs": [],
   "source": [
    "#pdfplumber mainly used to extract tables\n",
    "with pdfplumber.open('File.pdf') as f:\n",
    "    for i in f.pages:\n",
    "        print(i.extract_tables())"
   ]
  },
  {
   "cell_type": "code",
   "execution_count": null,
   "id": "e51faf8c",
   "metadata": {},
   "outputs": [],
   "source": [
    "#fitz\n",
    "doc=fitz.open('File.pdf')\n",
    "print(doc.page_count)\n",
    "print(doc.metadata)\n",
    "#getting page as image\n",
    "page=doc.load_page(2)\n",
    "pix=page.get_pixmap()\n",
    "pix.save(f\"page_{page.number}.png\")"
   ]
  },
  {
   "cell_type": "code",
   "execution_count": null,
   "id": "5fdc1da3",
   "metadata": {},
   "outputs": [],
   "source": [
    "# Extracting a Single Page From a PDF and saving in another PDF form\n",
    "from PyPDF2 import PdfReader, PdfWriter\n",
    "reader = PdfReader('File.pdf')\n",
    "writer = PdfWriter()\n",
    "page_to_extract = 0\n",
    "writer.add_page(reader.pages[page_to_extract])\n",
    "with open('extracted_page_single.pdf', 'wb') as f:\n",
    "    writer.write(f)"
   ]
  },
  {
   "cell_type": "code",
   "execution_count": null,
   "id": "d3837c27",
   "metadata": {},
   "outputs": [],
   "source": [
    "#extracting multiple pages\n",
    "from PyPDF2 import PdfReader, PdfWriter\n",
    "# Open the PDF file\n",
    "pdf = PdfReader('File.pdf')\n",
    "# Define the pages to extract\n",
    "pages_to_extract = [1, 3, 5]\n",
    "# Create a PdfFileWriter object\n",
    "writer = PdfWriter()\n",
    "# Iterate through the pages and add them to the writer object\n",
    "for page_num in pages_to_extract:\n",
    "    page = pdf.pages[page_num]\n",
    "    writer.add_page(page)\n",
    "# Save the extracted pages to a new PDF file\n",
    "with open('extracted_pages_multiple.pdf', 'wb') as f:\n",
    "    writer.write(f)"
   ]
  },
  {
   "cell_type": "code",
   "execution_count": null,
   "id": "54762117",
   "metadata": {},
   "outputs": [],
   "source": [
    "import PyPDF2\n",
    "\n",
    "# Merge PDFs\n",
    "pdf_merger = PyPDF2.PdfMerger()\n",
    "pdf_merger.append(\"File1.pdf\")\n",
    "pdf_merger.append(\"File2.pdf\")\n",
    "pdf_merger.write(\"merged_file(1,2).pdf\")\n",
    "pdf_merger.close()"
   ]
  },
  {
   "cell_type": "code",
   "execution_count": null,
   "id": "6ef40acf",
   "metadata": {},
   "outputs": [],
   "source": [
    "#rotating pages in pdf file\n",
    "import PyPDF2\n",
    "with open('File.pdf', 'rb') as file:\n",
    "    reader = PyPDF2.PdfReader(file)\n",
    "    writer = PyPDF2.PdfWriter()\n",
    "    for page_number in range(len(reader.pages)):\n",
    "        page = reader.pages[page_number]\n",
    "        if page_number in [0, 2]:  # Rotate the first and third pages\n",
    "            page.rotate(90)\n",
    "        writer.add_page(page)\n",
    "    with open('rotating_pages_inpdf.pdf', 'wb') as output_file:\n",
    "        writer.write(output_file)\n",
    "        \n",
    "        \n",
    "        \n",
    "#rotating entire pdf file\n",
    "with open(\"File.pdf\", \"rb\") as file:\n",
    "    pdf_reader = PyPDF2.PdfReader(file)\n",
    "    pdf_writer = PyPDF2.PdfWriter()\n",
    "    for page_num in range(len(pdf_reader.pages)):\n",
    "        page = pdf_reader.pages[page_num]\n",
    "        page.rotate(90)\n",
    "        pdf_writer.add_page(page)\n",
    "    with open(\"rotated_output.pdf\", \"wb\") as output_file:\n",
    "        pdf_writer.write(output_file)"
   ]
  },
  {
   "cell_type": "code",
   "execution_count": null,
   "id": "15c48b6b",
   "metadata": {},
   "outputs": [],
   "source": [
    "#cropped pdf\n",
    "from fitz import open\n",
    "pdf_doc=open(\"File.pdf\")\n",
    "for page in pdf_doc:\n",
    "    left,bottom,right,top=50,100,400,600\n",
    "    page.set_cropbox(fitz.Rect(left,bottom,right,top))\n",
    "    page.apply_redactions()\n",
    "pdf_doc.save(\"cropped_pdf.pdf\")"
   ]
  },
  {
   "cell_type": "code",
   "execution_count": null,
   "id": "54ab9ee3",
   "metadata": {},
   "outputs": [],
   "source": [
    "\n",
    "#splitting multiple pages\n",
    "from PyPDF2 import PdfReader, PdfWriter\n",
    "input_file = 'File.pdf'\n",
    "# Define the page ranges for each output file\n",
    "page_ranges = [(0, 1), (3, 3)]\n",
    "with open(input_file, 'rb') as file:\n",
    "    pdf = PdfReader(file)\n",
    "    for i, (start, end) in enumerate(page_ranges):\n",
    "        output_pdf = PdfWriter()\n",
    "        for page_number in range(start, end + 1):\n",
    "            output_pdf.add_page(pdf.pages[page_number])\n",
    "        with open(f\"output_{i + 1}_new.pdf\", 'wb') as output_file:\n",
    "            output_pdf.write(output_file)\n",
    "            "
   ]
  },
  {
   "cell_type": "code",
   "execution_count": null,
   "id": "661c198f",
   "metadata": {},
   "outputs": [],
   "source": [
    "import PyPDF2\n",
    "from PyPDF2 import PdfReader, PdfWriter\n",
    "# Split a PDF sigle pages\n",
    "pdf_reader = PyPDF2.PdfReader(\"File.pdf\")\n",
    "for page_number in range(len(pdf_reader.pages)):\n",
    "    pdf_writer = PyPDF2.PdfWriter()\n",
    "    pdf_writer.add_page(pdf_reader.pages[page_number])\n",
    "    with open(f\"output_page_{page_number}.pdf\", \"wb\") as pdf_outputfile:\n",
    "        pdf_writer.write(pdf_outputfile)\n",
    "page=pdf_reader.pages[0]\n",
    "text=page.extract_text()\n",
    "print(text)"
   ]
  },
  {
   "cell_type": "code",
   "execution_count": null,
   "id": "f03e7840",
   "metadata": {},
   "outputs": [],
   "source": [
    "import PyPDF2\n",
    "from PyPDF2 import PdfReader, PdfWriter\n",
    "# Open the PDF file\n",
    "reader = PdfReader('File.pdf')\n",
    "# Create a PdfFileWriter object\n",
    "writer = PdfWriter()\n",
    "# Define the new order of pages\n",
    "new_order = [2, 0, 1]  # Example: page 3, page 1, page 2\n",
    "# Add the pages to the writer object in the new order\n",
    "for page_num in new_order:\n",
    "    page = reader.pages[page_num]\n",
    "    writer.add_page(page)\n",
    "# Save the reordered PDF to a new file\n",
    "with open('reordered_output_page_order.pdf', 'wb') as f:\n",
    "    writer.write(f)\n",
    "    \n",
    "#reversing page order\n",
    "from PyPDF2 import PdfWriter, PdfReader\n",
    "# Open the PDF file\n",
    "reader = PdfReader('File.pdf')\n",
    "# Create a PdfWriter object\n",
    "writer = PdfWriter()\n",
    "# Reverse the order of pages\n",
    "for page in reversed(reader.pages):\n",
    "    writer.add_page(page)\n",
    "# Save the PDF with reversed page order\n",
    "with open('reordered_output.pdf', 'wb') as f:\n",
    "    writer.write(f)"
   ]
  },
  {
   "cell_type": "code",
   "execution_count": null,
   "id": "2a928aee",
   "metadata": {},
   "outputs": [],
   "source": [
    "# Encrypt PDF with password\n",
    "reader = PdfReader('File.pdf')\n",
    "writer = PdfWriter()\n",
    "# Set a password for the PDF\n",
    "password = \"password\"\n",
    "# Encrypt the PDF with the password\n",
    "writer.encrypt(user_password=password, owner_pwd=None, use_128bit=True)\n",
    "# Add the pages from the reader to the writer\n",
    "for page in reader.pages:\n",
    "    writer.add_page(page)\n",
    "# Save the encrypted PDF to a new file\n",
    "with open('encrypted_output.pdf', 'wb') as f:\n",
    "    writer.write(f)"
   ]
  },
  {
   "cell_type": "code",
   "execution_count": null,
   "id": "026dfc8d",
   "metadata": {},
   "outputs": [],
   "source": [
    "#writing pdf using canvas\n",
    "from reportlab.lib.pagesizes import LETTER\n",
    "from reportlab.lib.units import inch\n",
    "from reportlab.pdfgen.canvas import Canvas\n",
    "from reportlab.lib.colors import purple\n",
    "#creating pdf file\n",
    "my_canvas=Canvas(\"txtfile.pdf\",pagesize=LETTER)\n",
    "#setting up the fontand the font size\n",
    "my_canvas.setFont(\"Courier\",18)\n",
    "#setting up the color of the font\n",
    "my_canvas.setFillColor(purple)\n",
    "#writing this text on the pdf file\n",
    "my_canvas.drawString(2*inch,8*inch,'welcome to python')\n",
    "my_canvas.save()"
   ]
  },
  {
   "cell_type": "code",
   "execution_count": null,
   "id": "18fa8f4b",
   "metadata": {},
   "outputs": [],
   "source": [
    "from reportlab.pdfgen import canvas\n",
    "def write_to_pdf(filepath, content):\n",
    "  \"\"\"\n",
    "  Writes content to a PDF file using ReportLab.\n",
    "\n",
    "  Args:\n",
    "    filepath (str): Path to the PDF file.\n",
    "    content (str): Text content to write to the PDF.\n",
    "  \"\"\"\n",
    "  c = canvas.Canvas(filepath)\n",
    "  c.drawString(100, 750, content)\n",
    "  c.save()\n",
    "# Example usage\n",
    "filepath = \"output.pdf\"\n",
    "content = \"Hello, this is written to a PDF using ReportLab!\"\n",
    "write_to_pdf(filepath, content)"
   ]
  },
  {
   "cell_type": "code",
   "execution_count": null,
   "id": "53508ac6",
   "metadata": {},
   "outputs": [],
   "source": [
    "#creating pdf\n",
    "from fpdf import FPDF\n",
    "# Create a PDF document\n",
    "pdf = FPDF()\n",
    "# Add a page\n",
    "pdf.add_page()\n",
    "# Set font and text\n",
    "pdf.set_font(\"Arial\", size=12)\n",
    "pdf.cell(40, 10, txt=\"This is a simple PDF created with FPDF!\")\n",
    "# Add an image\n",
    "pdf.image(\"photo.jpg\", 100, 50, 50)\n",
    "# Output the PDF\n",
    "pdf.output(\"output.pdf\")"
   ]
  },
  {
   "cell_type": "code",
   "execution_count": null,
   "id": "2400d989",
   "metadata": {},
   "outputs": [],
   "source": [
    "#deleting pages \n",
    "import fitz\n",
    "pdf=fitz.open(\"File.pdf\")\n",
    "pages=[0,1,2]\n",
    "pdf.select(pages)\n",
    "pdf.save(\"deleted.pdf\")\n"
   ]
  }
 ],
 "metadata": {
  "kernelspec": {
   "display_name": "Python 3 (ipykernel)",
   "language": "python",
   "name": "python3"
  },
  "language_info": {
   "codemirror_mode": {
    "name": "ipython",
    "version": 3
   },
   "file_extension": ".py",
   "mimetype": "text/x-python",
   "name": "python",
   "nbconvert_exporter": "python",
   "pygments_lexer": "ipython3",
   "version": "3.10.9"
  }
 },
 "nbformat": 4,
 "nbformat_minor": 5
}
